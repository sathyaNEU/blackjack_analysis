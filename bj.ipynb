{
 "cells": [
  {
   "cell_type": "code",
   "execution_count": 152,
   "id": "966346ee-457d-4f4f-becd-cec6e7170af1",
   "metadata": {},
   "outputs": [],
   "source": [
    "import random\n",
    "from tqdm import tqdm\n",
    "import pandas as pd\n",
    "import numpy as np"
   ]
  },
  {
   "cell_type": "markdown",
   "id": "5c4c394c-bae9-4eef-86d4-233be3e3eb0f",
   "metadata": {},
   "source": [
    "## Blackjack Deck Simulation: `deck_50perc()` Function\n",
    "\n",
    "The `deck_50perc()` function creates a simulated deck with 50% of its cards randomly removed. Here's a breakdown of the function:\n",
    "\n",
    "- **Parameters**:\n",
    "  - `deck_count`: Specifies the number of decks being used (in this case, 5).\n",
    "  - `cards`: List of possible card values, representing cards from 2 through 10 and face cards ('K', 'Q', 'J', 'A').\n",
    "  - `deck`: Constructs a full deck with each card appearing four times (standard suit distribution) and multiplied by `deck_count`.\n",
    "\n",
    "- **Random Removal**:\n",
    "  - Using `random.sample()`, the function randomly removes half of the cards from `deck`.\n",
    "  - `deck.remove(i)`: Removes each selected card from `deck` until half of the deck is gone.\n"
   ]
  },
  {
   "cell_type": "code",
   "execution_count": 2,
   "id": "b761cdd1-2a64-4cd2-9ac7-401716a5d75f",
   "metadata": {},
   "outputs": [],
   "source": [
    "def deck_50perc():\n",
    "    deck_count = 5\n",
    "    cards = list(range(2,11))+['K','Q','J','A']\n",
    "    deck = cards*4*deck_count\n",
    "    for i in random.sample(deck,deck_count*52//2):\n",
    "        deck.remove(i)\n",
    "    return deck"
   ]
  },
  {
   "cell_type": "code",
   "execution_count": 3,
   "id": "45adf1b7-9141-436d-87e2-54e5a6f95c32",
   "metadata": {},
   "outputs": [],
   "source": [
    "deck = deck_50perc()"
   ]
  },
  {
   "cell_type": "code",
   "execution_count": 4,
   "id": "61f5b994-201c-489c-bb55-6740ca59d2af",
   "metadata": {},
   "outputs": [
    {
     "data": {
      "text/plain": [
       "130"
      ]
     },
     "execution_count": 4,
     "metadata": {},
     "output_type": "execute_result"
    }
   ],
   "source": [
    "len(deck)"
   ]
  },
  {
   "cell_type": "markdown",
   "id": "787a3cec-e3a7-4b6b-ba17-0e4a87be9004",
   "metadata": {},
   "source": [
    "## Blackjack Card Points: `points` Dictionary\n",
    "\n",
    "The `points` dictionary is used to assign values to each card in a blackjack deck. This dictionary comprehension assigns points based on standard blackjack rules:\n",
    "\n",
    "- **Ace ('A')**: Has a dual value of either 1 or 11, represented by `(1, 11)`.\n",
    "- **Face Cards ('K', 'Q', 'J') and 10**: All have a value of 10.\n",
    "- **Number Cards (2 through 9)**: Each card has its face value (e.g., 2, 3, ..., 9).\n"
   ]
  },
  {
   "cell_type": "code",
   "execution_count": 5,
   "id": "1dedfea8-b99d-42fa-83b4-1ba9bd3c8be7",
   "metadata": {},
   "outputs": [],
   "source": [
    "points = {i: (1, 11) if i == 'A' else 10 if i in ['K', 'Q', 'J', 10] else i for i in list(range(2,11))+['K','Q','J','A']}"
   ]
  },
  {
   "cell_type": "code",
   "execution_count": 6,
   "id": "787436e4-0485-4d38-ac52-c261d9bca57a",
   "metadata": {},
   "outputs": [
    {
     "data": {
      "text/plain": [
       "{2: 2,\n",
       " 3: 3,\n",
       " 4: 4,\n",
       " 5: 5,\n",
       " 6: 6,\n",
       " 7: 7,\n",
       " 8: 8,\n",
       " 9: 9,\n",
       " 10: 10,\n",
       " 'K': 10,\n",
       " 'Q': 10,\n",
       " 'J': 10,\n",
       " 'A': (1, 11)}"
      ]
     },
     "execution_count": 6,
     "metadata": {},
     "output_type": "execute_result"
    }
   ],
   "source": [
    "points"
   ]
  },
  {
   "cell_type": "code",
   "execution_count": 7,
   "id": "f7214e04-ec0f-47d7-814e-79214af3b5c5",
   "metadata": {},
   "outputs": [
    {
     "data": {
      "text/plain": [
       "[2, 3, 4, 5, 6, 7, 8, 9, 10, 'K', 'Q', 'J', 'A']"
      ]
     },
     "execution_count": 7,
     "metadata": {},
     "output_type": "execute_result"
    }
   ],
   "source": [
    "list(points.keys())"
   ]
  },
  {
   "cell_type": "markdown",
   "id": "c2b6e346-b6fe-44f0-b6e5-695fd49fb19c",
   "metadata": {},
   "source": [
    "## Blackjack Card Draw: `hit()` Function\n",
    "\n",
    "The `hit()` function simulates drawing a card from the deck and retrieves its corresponding point value based on blackjack rules.\n",
    "\n",
    "- **Process**:\n",
    "  - `card = random.choice(deck)`: Randomly selects a card from the `deck`.\n",
    "  - `return (card, points[card])`: Returns a tuple with the card and its point value from the `points` dictionary.\n",
    "\n",
    "The function provides a quick way to simulate a hit action in blackjack, giving both the card drawn and its value for scoring purposes.\n"
   ]
  },
  {
   "cell_type": "code",
   "execution_count": 8,
   "id": "bdc65591-ce00-4311-af61-eba05978b761",
   "metadata": {},
   "outputs": [],
   "source": [
    "def hit():\n",
    "    card = random.choice(deck)\n",
    "    return (card, points[card])"
   ]
  },
  {
   "cell_type": "code",
   "execution_count": 9,
   "id": "08f947e7-0352-46d7-a015-555e1c3e6504",
   "metadata": {},
   "outputs": [
    {
     "data": {
      "text/plain": [
       "(4, 4)"
      ]
     },
     "execution_count": 9,
     "metadata": {},
     "output_type": "execute_result"
    }
   ],
   "source": [
    "hit()"
   ]
  },
  {
   "cell_type": "markdown",
   "id": "ae4d4fb9-8648-4349-8afa-cc1b7b18aa85",
   "metadata": {},
   "source": [
    "## Blackjack Possible Dealer Hands: `possible_dealer_hands` Set\n",
    "\n",
    "The `possible_dealer_hands` set stores all potential dealer hands composed of a face card (King, Queen, Jack, or 10) and another card, along with the combined point total for each hand.\n",
    "\n",
    "- **Loop Structure**:\n",
    "  - The outer loop iterates over face cards (`K`, `Q`, `J`, `10`).\n",
    "  - The inner loop iterates over possible second cards (`2` through `10`, `K`, `Q`, `J`).\n",
    "\n",
    "- **Set Construction**:\n",
    "  - For each pair of cards `(i, j)`, two entries are added to `possible_dealer_hands`:\n",
    "    - `(i, j, points[i] + points[j])`: Represents the first card as the face card and the second card as another possible value.\n",
    "    - `(j, i, points[i] + points[j])`: Ensures all possible card orderings are included in the set.\n",
    "\n",
    "This set captures all feasible starting hands and their totals for the dealer, simplifying access to predefined dealer hand combinations.\n"
   ]
  },
  {
   "cell_type": "code",
   "execution_count": 108,
   "id": "4d4e6ed3-4938-42a2-b613-590961cf406a",
   "metadata": {},
   "outputs": [],
   "source": [
    "possible_dealer_hands=set()\n",
    "for i in ['K', 'Q', 'J', 10]:\n",
    "    for j in [2,3,4,5,6,7,8,9,10,'K', 'Q', 'J']:\n",
    "        possible_dealer_hands.add((i,j,points[i]+points[j]))\n",
    "        possible_dealer_hands.add((j,i,points[i]+points[j]))"
   ]
  },
  {
   "cell_type": "markdown",
   "id": "8e332f92-ad2b-4673-afa6-2bb11299ad18",
   "metadata": {},
   "source": [
    "## Blackjack Possible Player Hands: `possible_player_hands` Set\n",
    "\n",
    "The `possible_player_hands` set defines all potential player hands that sum up to 12, which is crucial for simulating specific scenarios in blackjack.\n",
    "\n",
    "- **Loop Structure**:\n",
    "  - **Number Cards (2 through 10)**:\n",
    "    - For each card `i` in the range 2 to 10, a second card is selected as `12 - i`, ensuring the pair of cards totals 12.\n",
    "  - **Face Cards ('K', 'Q', 'J')**:\n",
    "    - Each face card (`K`, `Q`, `J`) pairs with the card 2, adding combinations that sum to 12 with face cards.\n",
    "\n",
    "- **Set Construction**:\n",
    "  - For each combination, two entries are added to `possible_player_hands` to account for both card orderings:\n",
    "    - `(i, 12 - i, 12)`: Ensures hands with number cards sum to 12.\n",
    "    - `(i, 2, 12)` and `(2, i, 12)`: Adds face card combinations that total 12.\n",
    "\n",
    "This set provides a collection of all possible player hands that add up to 12, facilitating targeted simulations for player hands in blackjack.\n"
   ]
  },
  {
   "cell_type": "code",
   "execution_count": 98,
   "id": "16fa43dd-a664-4eae-bd25-4884c40668ec",
   "metadata": {},
   "outputs": [],
   "source": [
    "possible_player_hands = set()\n",
    "for i in range(2,11):\n",
    "    possible_player_hands.add((i,12-i,12))\n",
    "for i in ['K','Q','J']:\n",
    "    possible_player_hands.add((i,2,12))\n",
    "    possible_player_hands.add((2,i,12))"
   ]
  },
  {
   "cell_type": "markdown",
   "id": "4d75c923-c294-4220-852b-fe5636bca164",
   "metadata": {},
   "source": [
    "## Removing Cards from Deck: `remove_from_deck()` Function\n",
    "\n",
    "The `remove_from_deck()` function removes specific cards from the deck, simulating the use of those cards in gameplay.\n",
    "\n",
    "- **Parameters**:\n",
    "  - `items`: A list of cards to be removed from `deck`.\n",
    "\n",
    "- **Function Logic**:\n",
    "  - The function iterates over each card in `items`.\n",
    "  - For each card `i`, `deck.remove(i)` removes it from the `deck`.\n",
    "\n",
    "This function is useful for updating the deck dynamically, ensuring that once cards are drawn, they are no longer available in subsequent actions.\n"
   ]
  },
  {
   "cell_type": "code",
   "execution_count": 16,
   "id": "4bb98a28-d9dd-4fd6-b40d-74642415e03a",
   "metadata": {},
   "outputs": [],
   "source": [
    "def remove_from_deck(items):\n",
    "    for i in items:\n",
    "        deck.remove(i)"
   ]
  },
  {
   "cell_type": "markdown",
   "id": "49177195-d719-40c9-9785-02494769e252",
   "metadata": {},
   "source": [
    "## Player Bust Check: `player_bust()` Function\n",
    "\n",
    "The `player_bust()` function checks if the player’s total points exceed the limit in blackjack, resulting in a bust.\n",
    "\n",
    "- **Parameters**:\n",
    "  - `tot_pts`: The player’s current total points.\n",
    "\n",
    "- **Function Logic**:\n",
    "  - Returns `True` if `tot_pts` is greater than 21, indicating a bust.\n",
    "  - Returns `False` otherwise, meaning the player is still in play.\n",
    "\n",
    "This function is essential for determining when a player’s hand exceeds the blackjack threshold.\n"
   ]
  },
  {
   "cell_type": "code",
   "execution_count": 20,
   "id": "253f68c7-80bd-4319-b096-b74d80995dcc",
   "metadata": {},
   "outputs": [],
   "source": [
    "def player_bust(tot_pts):\n",
    "    return tot_pts>21"
   ]
  },
  {
   "cell_type": "markdown",
   "id": "651d5a26-dc34-47e0-a312-bd0253a1fb82",
   "metadata": {},
   "source": [
    "## Winner Determination: `decide_winner()` Function\n",
    "\n",
    "The `decide_winner()` function compares the player’s and dealer’s point totals to determine the outcome of a blackjack round.\n",
    "\n",
    "- **Parameters**:\n",
    "  - `player_pts`: The total points of the player’s hand.\n",
    "  - `dealer_pts`: The total points of the dealer’s hand.\n",
    "\n",
    "- **Return Values**:\n",
    "  - `1` if the player’s points are higher than the dealer’s, indicating a player win.\n",
    "  - `0` if the points are equal, resulting in a tie.\n",
    "  - `-1` if the dealer’s points are higher, indicating a player loss.\n",
    "\n",
    "This function provides a straightforward way to evaluate the round outcome based on standard blackjack rules.\n"
   ]
  },
  {
   "cell_type": "code",
   "execution_count": 21,
   "id": "91fb15c0-e3be-4775-b311-c179b8e5d2f6",
   "metadata": {},
   "outputs": [],
   "source": [
    "def decide_winner(player_pts,dealer_pts):\n",
    "    if player_pts > dealer_pts:\n",
    "        return 1\n",
    "    elif player_pts == dealer_pts:\n",
    "        return 0\n",
    "    else:\n",
    "        return -1"
   ]
  },
  {
   "cell_type": "markdown",
   "id": "fa49a2a1-0460-4cb4-9e12-4367350e61d3",
   "metadata": {},
   "source": [
    "## Experiment Variable: `exp`\n",
    "\n",
    "The variable `exp` is set to 1000, typically representing the number of trials or experiments in a simulation.\n",
    "\n",
    "- **Purpose**:\n",
    "  - This value is commonly used in scenarios where you want to run multiple simulations to gather statistical data or evaluate performance over a large number of iterations.\n",
    "\n",
    "Setting `exp` to 1000 allows for robust data collection, providing insights into the behavior of the game mechanics or outcomes being analyzed.\n"
   ]
  },
  {
   "cell_type": "code",
   "execution_count": 26,
   "id": "5076b6ed-3925-49e1-938b-e806db6e575a",
   "metadata": {},
   "outputs": [],
   "source": [
    "exp=1000"
   ]
  },
  {
   "cell_type": "markdown",
   "id": "79d42e5b-ce4c-4d96-aba6-989412d1f1f5",
   "metadata": {},
   "source": [
    "## Simulation of Blackjack Outcomes\n",
    "\n",
    "The following code simulates the outcomes of blackjack hands for various combinations of player and dealer hands, tracking wins, losses, and draws over a specified number of experiments.\n",
    "\n",
    "### Code Overview\n",
    "\n",
    "- **Data Structure**:\n",
    "  - `data`: A list to store the results of each simulation, capturing dealer and player hands along with their win/loss statistics.\n",
    "\n",
    "- **Outer Loop**:\n",
    "  - Iterates over each possible player hand in `possible_player_hands`.\n",
    "  - Iterates over each possible dealer hand in `possible_dealer_hands`.\n",
    "\n",
    "- **Frequency Counters**:\n",
    "  - `dealer_win_freq`: Counts the number of times the dealer wins.\n",
    "  - `player_win_freq`: Counts the number of times the player wins.\n",
    "  - `draw_freq`: Counts the number of draws.\n",
    "\n",
    "- **Inner Loop**:\n",
    "  - Runs `exp` simulations (set to 1000) for each combination of player and dealer hands.\n",
    "  - Calls `deck_50perc()` to create a deck with 50% of the cards removed.\n",
    "  - Initializes `did_player_bust` to track if the player busts and sets `tot_pts` to the player's initial total points.\n",
    "\n",
    "- **Gameplay Logic**:\n",
    "  - The player draws cards until their total points are 17 or higher.\n",
    "  - The player's card is removed from the deck.\n",
    "  - If an Ace is drawn, it increments the total points by 1.\n",
    "  - Checks for a bust using the `player_bust()` function.\n",
    "\n",
    "- **Outcome Determination**:\n",
    "  - If the player busts, the dealer wins.\n",
    "  - Uses `decide_winner()` to determine if the dealer wins, the player wins, or if it's a draw.\n",
    "  - Updates the frequency counters accordingly.\n",
    "\n",
    "- **Result Storage**:\n",
    "  - Appends a dictionary to `data` for each combination of hands, containing the dealer's and player's hands, along with their respective win counts and draw counts.\n",
    "\n",
    "This simulation allows for the analysis of the player's and dealer's performance under various conditions, providing valuable insights into the game's dynamics.\n"
   ]
  },
  {
   "cell_type": "code",
   "execution_count": 169,
   "id": "f510a6fd-ef86-49b5-9380-af86340435dc",
   "metadata": {},
   "outputs": [
    {
     "name": "stderr",
     "output_type": "stream",
     "text": [
      "100%|██████████████████████████████████████████████████████████████████████████████████| 15/15 [02:17<00:00,  9.16s/it]\n"
     ]
    }
   ],
   "source": [
    "data=[] \n",
    "for player in tqdm(possible_player_hands):\n",
    "    for dealer in possible_dealer_hands:\n",
    "        dealer_win_freq = 0\n",
    "        player_win_freq = 0\n",
    "        draw_freq = 0\n",
    "        for i in range(exp):\n",
    "            deck = deck_50perc()\n",
    "            did_player_bust = -1\n",
    "            tot_pts = player[-1]\n",
    "            while tot_pts<17:\n",
    "                player_card = hit()\n",
    "                remove_from_deck([player_card[0]])\n",
    "                if player_card[0] == 'A':\n",
    "                    tot_pts+=1\n",
    "                else:\n",
    "                    tot_pts+=player_card[1]\n",
    "                    if player_bust(tot_pts):\n",
    "                        did_player_bust=1\n",
    "            if did_player_bust==1:\n",
    "                dealer_win_freq+=1\n",
    "            elif decide_winner(tot_pts, dealer[-1])==-1:\n",
    "                dealer_win_freq+=1\n",
    "            elif decide_winner(tot_pts,dealer[-1])==0:\n",
    "                draw_freq+=1\n",
    "            else:\n",
    "                player_win_freq+=1 \n",
    "        data.append({'dealer':dealer, 'player':player, 'dealer_win':dealer_win_freq,'player_win':player_win_freq, 'push':draw_freq})"
   ]
  },
  {
   "cell_type": "markdown",
   "id": "867957a5-a160-4a13-950b-ba347d6a0341",
   "metadata": {},
   "source": [
    "## Creating a DataFrame: `df`\n",
    "\n",
    "The line of code `df = pd.DataFrame(data)` converts the `data` list, which contains simulation results, into a Pandas DataFrame for easier analysis and visualization.\n",
    "\n",
    "### Overview\n",
    "\n",
    "- **Data Structure**:\n",
    "  - The `data` list is expected to contain dictionaries, each representing the outcome of a simulation round with keys for dealer hands, player hands, and their respective win/loss statistics.\n",
    "\n",
    "- **Purpose**:\n",
    "  - A DataFrame provides a tabular format that allows for efficient data manipulation, aggregation, and statistical analysis.\n",
    "  - It enables the use of Pandas functions to summarize the results, visualize data, and perform further computations.\n",
    "\n",
    "This transformation is a crucial step for analyzing the results of the blackjack simulations systematically.\n"
   ]
  },
  {
   "cell_type": "code",
   "execution_count": 175,
   "id": "dd149dfc-a8a5-439a-8e52-d7e89835c375",
   "metadata": {},
   "outputs": [],
   "source": [
    "df = pd.DataFrame(data)"
   ]
  },
  {
   "cell_type": "markdown",
   "id": "32bf6e0b-2f02-40fa-85b4-eb8479d856ee",
   "metadata": {},
   "source": [
    "## Normalizing Win/Loss Statistics\n",
    "\n",
    "The line of code `df[['dealer_win', 'player_win', 'push']] = df[['dealer_win', 'player_win', 'push']] / exp` normalizes the win/loss statistics in the DataFrame by dividing each count by the number of experiments (`exp`).\n",
    "\n",
    "### Purpose\n",
    "\n",
    "- **Normalization**:\n",
    "  - This operation converts the raw counts of wins for the dealer, player, and pushes into proportions or probabilities, providing a clearer understanding of the outcomes relative to the total number of experiments.\n",
    "  \n",
    "- **Columns Affected**:\n",
    "  - `dealer_win`: Now represents the proportion of dealer wins.\n",
    "  - `player_win`: Now represents the proportion of player wins.\n",
    "  - `push`: Now represents the proportion of draws.\n",
    "\n",
    "Normalizing these statistics is essential for interpreting the results effectively, as it allows for comparisons across different hands and scenarios without being skewed by the total number of simulations.\n"
   ]
  },
  {
   "cell_type": "code",
   "execution_count": 177,
   "id": "31de7854-fd6c-4d22-af42-8539caf5a16a",
   "metadata": {},
   "outputs": [],
   "source": [
    "df[['dealer_win', 'player_win', 'push']] = df[['dealer_win', 'player_win', 'push']] / exp"
   ]
  },
  {
   "cell_type": "code",
   "execution_count": 178,
   "id": "a170dad8-f0e9-4cd1-a26b-0a107cbc21bd",
   "metadata": {},
   "outputs": [
    {
     "data": {
      "text/plain": [
       "np.float64(0.5758)"
      ]
     },
     "execution_count": 178,
     "metadata": {},
     "output_type": "execute_result"
    }
   ],
   "source": [
    "df.dealer_win.mean()"
   ]
  },
  {
   "cell_type": "code",
   "execution_count": 179,
   "id": "1056384e-5865-4092-ae5a-ba421f5f716b",
   "metadata": {},
   "outputs": [
    {
     "data": {
      "text/plain": [
       "np.float64(0.3724125)"
      ]
     },
     "execution_count": 179,
     "metadata": {},
     "output_type": "execute_result"
    }
   ],
   "source": [
    "df.player_win.mean()"
   ]
  },
  {
   "cell_type": "code",
   "execution_count": 180,
   "id": "9aedc7ab-4e80-483d-ac29-11a9cff7d2f4",
   "metadata": {},
   "outputs": [
    {
     "data": {
      "text/plain": [
       "np.float64(0.05178749999999999)"
      ]
     },
     "execution_count": 180,
     "metadata": {},
     "output_type": "execute_result"
    }
   ],
   "source": [
    "df.push.mean()"
   ]
  },
  {
   "cell_type": "code",
   "execution_count": 181,
   "id": "08a125a4-82de-4123-86c2-c67bd60bdab5",
   "metadata": {},
   "outputs": [
    {
     "data": {
      "text/html": [
       "<div>\n",
       "<style scoped>\n",
       "    .dataframe tbody tr th:only-of-type {\n",
       "        vertical-align: middle;\n",
       "    }\n",
       "\n",
       "    .dataframe tbody tr th {\n",
       "        vertical-align: top;\n",
       "    }\n",
       "\n",
       "    .dataframe thead th {\n",
       "        text-align: right;\n",
       "    }\n",
       "</style>\n",
       "<table border=\"1\" class=\"dataframe\">\n",
       "  <thead>\n",
       "    <tr style=\"text-align: right;\">\n",
       "      <th></th>\n",
       "      <th>dealer</th>\n",
       "      <th>player</th>\n",
       "      <th>dealer_win</th>\n",
       "      <th>player_win</th>\n",
       "      <th>push</th>\n",
       "    </tr>\n",
       "  </thead>\n",
       "  <tbody>\n",
       "    <tr>\n",
       "      <th>0</th>\n",
       "      <td>(J, 8, 18)</td>\n",
       "      <td>(K, 2, 12)</td>\n",
       "      <td>0.577</td>\n",
       "      <td>0.310</td>\n",
       "      <td>0.113</td>\n",
       "    </tr>\n",
       "    <tr>\n",
       "      <th>1</th>\n",
       "      <td>(10, 3, 13)</td>\n",
       "      <td>(K, 2, 12)</td>\n",
       "      <td>0.497</td>\n",
       "      <td>0.503</td>\n",
       "      <td>0.000</td>\n",
       "    </tr>\n",
       "    <tr>\n",
       "      <th>2</th>\n",
       "      <td>(J, 4, 14)</td>\n",
       "      <td>(K, 2, 12)</td>\n",
       "      <td>0.479</td>\n",
       "      <td>0.521</td>\n",
       "      <td>0.000</td>\n",
       "    </tr>\n",
       "    <tr>\n",
       "      <th>3</th>\n",
       "      <td>(Q, K, 20)</td>\n",
       "      <td>(K, 2, 12)</td>\n",
       "      <td>0.800</td>\n",
       "      <td>0.095</td>\n",
       "      <td>0.105</td>\n",
       "    </tr>\n",
       "    <tr>\n",
       "      <th>4</th>\n",
       "      <td>(5, Q, 15)</td>\n",
       "      <td>(K, 2, 12)</td>\n",
       "      <td>0.494</td>\n",
       "      <td>0.506</td>\n",
       "      <td>0.000</td>\n",
       "    </tr>\n",
       "    <tr>\n",
       "      <th>...</th>\n",
       "      <td>...</td>\n",
       "      <td>...</td>\n",
       "      <td>...</td>\n",
       "      <td>...</td>\n",
       "      <td>...</td>\n",
       "    </tr>\n",
       "    <tr>\n",
       "      <th>1195</th>\n",
       "      <td>(Q, 2, 12)</td>\n",
       "      <td>(4, 8, 12)</td>\n",
       "      <td>0.488</td>\n",
       "      <td>0.512</td>\n",
       "      <td>0.000</td>\n",
       "    </tr>\n",
       "    <tr>\n",
       "      <th>1196</th>\n",
       "      <td>(7, K, 17)</td>\n",
       "      <td>(4, 8, 12)</td>\n",
       "      <td>0.485</td>\n",
       "      <td>0.417</td>\n",
       "      <td>0.098</td>\n",
       "    </tr>\n",
       "    <tr>\n",
       "      <th>1197</th>\n",
       "      <td>(2, J, 12)</td>\n",
       "      <td>(4, 8, 12)</td>\n",
       "      <td>0.506</td>\n",
       "      <td>0.494</td>\n",
       "      <td>0.000</td>\n",
       "    </tr>\n",
       "    <tr>\n",
       "      <th>1198</th>\n",
       "      <td>(4, J, 14)</td>\n",
       "      <td>(4, 8, 12)</td>\n",
       "      <td>0.490</td>\n",
       "      <td>0.510</td>\n",
       "      <td>0.000</td>\n",
       "    </tr>\n",
       "    <tr>\n",
       "      <th>1199</th>\n",
       "      <td>(J, Q, 20)</td>\n",
       "      <td>(4, 8, 12)</td>\n",
       "      <td>0.803</td>\n",
       "      <td>0.102</td>\n",
       "      <td>0.095</td>\n",
       "    </tr>\n",
       "  </tbody>\n",
       "</table>\n",
       "<p>1200 rows × 5 columns</p>\n",
       "</div>"
      ],
      "text/plain": [
       "           dealer      player  dealer_win  player_win   push\n",
       "0      (J, 8, 18)  (K, 2, 12)       0.577       0.310  0.113\n",
       "1     (10, 3, 13)  (K, 2, 12)       0.497       0.503  0.000\n",
       "2      (J, 4, 14)  (K, 2, 12)       0.479       0.521  0.000\n",
       "3      (Q, K, 20)  (K, 2, 12)       0.800       0.095  0.105\n",
       "4      (5, Q, 15)  (K, 2, 12)       0.494       0.506  0.000\n",
       "...           ...         ...         ...         ...    ...\n",
       "1195   (Q, 2, 12)  (4, 8, 12)       0.488       0.512  0.000\n",
       "1196   (7, K, 17)  (4, 8, 12)       0.485       0.417  0.098\n",
       "1197   (2, J, 12)  (4, 8, 12)       0.506       0.494  0.000\n",
       "1198   (4, J, 14)  (4, 8, 12)       0.490       0.510  0.000\n",
       "1199   (J, Q, 20)  (4, 8, 12)       0.803       0.102  0.095\n",
       "\n",
       "[1200 rows x 5 columns]"
      ]
     },
     "execution_count": 181,
     "metadata": {},
     "output_type": "execute_result"
    }
   ],
   "source": [
    "df"
   ]
  },
  {
   "cell_type": "markdown",
   "id": "3ad7b163-d149-40be-a349-d9dc346b5720",
   "metadata": {},
   "source": [
    "## Exporting Results to CSV\n",
    "\n",
    "The line of code `df.to_csv('stats.csv', index=False)` exports the DataFrame `df` to a CSV file named `stats.csv`.\n",
    "\n",
    "### Overview\n",
    "\n",
    "- **Functionality**:\n",
    "  - This operation saves the normalized win/loss statistics and other data contained in the DataFrame to a CSV format, making it easy to share, analyze, or import into other tools.\n",
    "\n",
    "- **Parameters**:\n",
    "  - `index=False`: This parameter ensures that the DataFrame index is not included in the CSV file, resulting in a cleaner output with only the data columns.\n",
    "\n",
    "Exporting the results to a CSV file is a practical step for documenting the outcomes of the blackjack simulations and allows for further analysis using spreadsheet software or data analysis tools.\n"
   ]
  },
  {
   "cell_type": "code",
   "execution_count": 183,
   "id": "a68c63f8-934f-4d74-bb3e-803310ad96b0",
   "metadata": {},
   "outputs": [],
   "source": [
    "df.to_csv('stats.csv', index=False)"
   ]
  },
  {
   "cell_type": "markdown",
   "id": "cf308a3b-a23d-40f7-a74f-c76165583e46",
   "metadata": {},
   "source": [
    "## Total Number of Simulations\n",
    "\n",
    "The expression `len(possible_dealer_hands) * len(possible_player_hands) * exp` calculates the total number of simulations conducted in the blackjack analysis.\n",
    "\n",
    "### Breakdown\n",
    "\n",
    "- **Components**:\n",
    "  - `len(possible_dealer_hands)`: The number of unique dealer hands considered in the simulations.\n",
    "  - `len(possible_player_hands)`: The number of unique player hands considered in the simulations.\n",
    "  - `exp`: The number of experiments (set to 1000) run for each combination of player and dealer hands.\n",
    "\n",
    "### Purpose\n",
    "\n",
    "This calculation provides insight into the overall scale of the simulation, indicating how many rounds of blackjack were played in total. It helps to assess the robustness of the results and the statistical reliability of the findings. Understanding the total number of simulations is crucial for evaluating the significance of the outcomes observed in the analysis.\n"
   ]
  },
  {
   "cell_type": "code",
   "execution_count": 185,
   "id": "122b097b-ae49-4dd4-9c37-921d43ae756b",
   "metadata": {},
   "outputs": [
    {
     "data": {
      "text/plain": [
       "1200000"
      ]
     },
     "execution_count": 185,
     "metadata": {},
     "output_type": "execute_result"
    }
   ],
   "source": [
    "len(possible_dealer_hands)*len(possible_player_hands)*exp"
   ]
  },
  {
   "cell_type": "code",
   "execution_count": 194,
   "id": "b69465fa-f5c0-4ab4-8318-b6c3f84eae40",
   "metadata": {},
   "outputs": [
    {
     "data": {
      "image/png": "[encoded data removed]",
      "text/plain": [
       "<Figure size 1000x600 with 1 Axes>"
      ]
     },
     "metadata": {},
     "output_type": "display_data"
    }
   ],
   "source": [
    "import matplotlib.pyplot as plt\n",
    "\n",
    "# Data for player win rates against dealer sums\n",
    "dealer_sums = [12, 13, 14, 15, 16, 17, 18, 19, 20]\n",
    "win_rates = [\n",
    "    51.67,  # Against dealer showing 12\n",
    "    51.50,  # Against dealer showing 13\n",
    "    51.77,  # Against dealer showing 14\n",
    "    51.74,  # Against dealer showing 15\n",
    "    51.98,  # Against dealer showing 16\n",
    "    51.83,  # Against dealer showing 17\n",
    "    41.16,  # Against dealer showing 18\n",
    "    31.07,  # Against dealer showing 19\n",
    "    20.74   # Against dealer showing 20\n",
    "]\n",
    "\n",
    "# Plotting the graph\n",
    "plt.figure(figsize=(10, 6))\n",
    "plt.plot(dealer_sums, win_rates, marker='o', linestyle='-', color='blue')\n",
    "plt.title('Player Win Rates Against Dealer Sums')\n",
    "plt.xlabel('Dealer Sum')\n",
    "plt.ylabel('Player Win Rate (%)')\n",
    "plt.xticks(dealer_sums)\n",
    "plt.ylim(0, 60)\n",
    "plt.grid()\n",
    "plt.axhline(y=50, color='r', linestyle='--', label='50% Win Rate')\n",
    "plt.legend()\n",
    "plt.show()\n"
   ]
  }
 ],
 "metadata": {
  "kernelspec": {
   "display_name": "Python 3 (ipykernel)",
   "language": "python",
   "name": "python3"
  },
  "language_info": {
   "codemirror_mode": {
    "name": "ipython",
    "version": 3
   },
   "file_extension": ".py",
   "mimetype": "text/x-python",
   "name": "python",
   "nbconvert_exporter": "python",
   "pygments_lexer": "ipython3",
   "version": "3.12.4"
  }
 },
 "nbformat": 4,
 "nbformat_minor": 5
}
