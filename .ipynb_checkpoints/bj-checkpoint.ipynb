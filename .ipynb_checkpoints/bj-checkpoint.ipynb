{
 "cells": [
  {
   "cell_type": "code",
   "execution_count": 152,
   "id": "966346ee-457d-4f4f-becd-cec6e7170af1",
   "metadata": {},
   "outputs": [],
   "source": [
    "import random\n",
    "from tqdm import tqdm\n",
    "import pandas as pd\n",
    "import numpy as np"
   ]
  },
  {
   "cell_type": "markdown",
   "id": "5c4c394c-bae9-4eef-86d4-233be3e3eb0f",
   "metadata": {},
   "source": [
    "## Blackjack Deck Simulation: `deck_50perc()` Function\n",
    "\n",
    "The `deck_50perc()` function creates a simulated deck with 50% of its cards randomly removed. Here's a breakdown of the function:\n",
    "\n",
    "- **Parameters**:\n",
    "  - `deck_count`: Specifies the number of decks being used (in this case, 5).\n",
    "  - `cards`: List of possible card values, representing cards from 2 through 10 and face cards ('K', 'Q', 'J', 'A').\n",
    "  - `deck`: Constructs a full deck with each card appearing four times (standard suit distribution) and multiplied by `deck_count`.\n",
    "\n",
    "- **Random Removal**:\n",
    "  - Using `random.sample()`, the function randomly removes half of the cards from `deck`.\n",
    "  - `deck.remove(i)`: Removes each selected card from `deck` until half of the deck is gone.\n"
   ]
  },
  {
   "cell_type": "code",
   "execution_count": 2,
   "id": "b761cdd1-2a64-4cd2-9ac7-401716a5d75f",
   "metadata": {},
   "outputs": [],
   "source": [
    "def deck_50perc():\n",
    "    deck_count = 5\n",
    "    cards = list(range(2,11))+['K','Q','J','A']\n",
    "    deck = cards*4*deck_count\n",
    "    for i in random.sample(deck,deck_count*52//2):\n",
    "        deck.remove(i)\n",
    "    return deck"
   ]
  },
  {
   "cell_type": "code",
   "execution_count": 3,
   "id": "45adf1b7-9141-436d-87e2-54e5a6f95c32",
   "metadata": {},
   "outputs": [],
   "source": [
    "deck = deck_50perc()"
   ]
  },
  {
   "cell_type": "code",
   "execution_count": 4,
   "id": "61f5b994-201c-489c-bb55-6740ca59d2af",
   "metadata": {},
   "outputs": [
    {
     "data": {
      "text/plain": [
       "130"
      ]
     },
     "execution_count": 4,
     "metadata": {},
     "output_type": "execute_result"
    }
   ],
   "source": [
    "len(deck)"
   ]
  },
  {
   "cell_type": "markdown",
   "id": "787a3cec-e3a7-4b6b-ba17-0e4a87be9004",
   "metadata": {},
   "source": [
    "## Blackjack Card Points: `points` Dictionary\n",
    "\n",
    "The `points` dictionary is used to assign values to each card in a blackjack deck. This dictionary comprehension assigns points based on standard blackjack rules:\n",
    "\n",
    "- **Ace ('A')**: Has a dual value of either 1 or 11, represented by `(1, 11)`.\n",
    "- **Face Cards ('K', 'Q', 'J') and 10**: All have a value of 10.\n",
    "- **Number Cards (2 through 9)**: Each card has its face value (e.g., 2, 3, ..., 9).\n"
   ]
  },
  {
   "cell_type": "code",
   "execution_count": 5,
   "id": "1dedfea8-b99d-42fa-83b4-1ba9bd3c8be7",
   "metadata": {},
   "outputs": [],
   "source": [
    "points = {i: (1, 11) if i == 'A' else 10 if i in ['K', 'Q', 'J', 10] else i for i in list(range(2,11))+['K','Q','J','A']}"
   ]
  },
  {
   "cell_type": "code",
   "execution_count": 6,
   "id": "787436e4-0485-4d38-ac52-c261d9bca57a",
   "metadata": {},
   "outputs": [
    {
     "data": {
      "text/plain": [
       "{2: 2,\n",
       " 3: 3,\n",
       " 4: 4,\n",
       " 5: 5,\n",
       " 6: 6,\n",
       " 7: 7,\n",
       " 8: 8,\n",
       " 9: 9,\n",
       " 10: 10,\n",
       " 'K': 10,\n",
       " 'Q': 10,\n",
       " 'J': 10,\n",
       " 'A': (1, 11)}"
      ]
     },
     "execution_count": 6,
     "metadata": {},
     "output_type": "execute_result"
    }
   ],
   "source": [
    "points"
   ]
  },
  {
   "cell_type": "code",
   "execution_count": 7,
   "id": "f7214e04-ec0f-47d7-814e-79214af3b5c5",
   "metadata": {},
   "outputs": [
    {
     "data": {
      "text/plain": [
       "[2, 3, 4, 5, 6, 7, 8, 9, 10, 'K', 'Q', 'J', 'A']"
      ]
     },
     "execution_count": 7,
     "metadata": {},
     "output_type": "execute_result"
    }
   ],
   "source": [
    "list(points.keys())"
   ]
  },
  {
   "cell_type": "markdown",
   "id": "c2b6e346-b6fe-44f0-b6e5-695fd49fb19c",
   "metadata": {},
   "source": [
    "## Blackjack Card Draw: `hit()` Function\n",
    "\n",
    "The `hit()` function simulates drawing a card from the deck and retrieves its corresponding point value based on blackjack rules.\n",
    "\n",
    "- **Process**:\n",
    "  - `card = random.choice(deck)`: Randomly selects a card from the `deck`.\n",
    "  - `return (card, points[card])`: Returns a tuple with the card and its point value from the `points` dictionary.\n",
    "\n",
    "The function provides a quick way to simulate a hit action in blackjack, giving both the card drawn and its value for scoring purposes.\n"
   ]
  },
  {
   "cell_type": "code",
   "execution_count": 8,
   "id": "bdc65591-ce00-4311-af61-eba05978b761",
   "metadata": {},
   "outputs": [],
   "source": [
    "def hit():\n",
    "    card = random.choice(deck)\n",
    "    return (card, points[card])"
   ]
  },
  {
   "cell_type": "code",
   "execution_count": 9,
   "id": "08f947e7-0352-46d7-a015-555e1c3e6504",
   "metadata": {},
   "outputs": [
    {
     "data": {
      "text/plain": [
       "(4, 4)"
      ]
     },
     "execution_count": 9,
     "metadata": {},
     "output_type": "execute_result"
    }
   ],
   "source": [
    "hit()"
   ]
  },
  {
   "cell_type": "code",
   "execution_count": 10,
   "id": "cd8ec8a4-4e99-44c5-9384-f01336107d9d",
   "metadata": {},
   "outputs": [],
   "source": [
    "def get_a_pair():\n",
    "    x,y=None,None\n",
    "    while True:\n",
    "        x,y = random.choice(list(points.keys())),random.choice(list(points.keys()))\n",
    "        if x=='A' and y =='A':\n",
    "            return (x,y,2,12)\n",
    "        elif x=='A':\n",
    "            return (x,y,points[y]+1,points[y]+11)\n",
    "        elif y=='A':\n",
    "            return (x,y,points[x]+1,points[x]+11)\n",
    "        else:\n",
    "            return (x,y,points[x]+points[y])\n",
    "        break"
   ]
  },
  {
   "cell_type": "code",
   "execution_count": 11,
   "id": "8716b52f-c1d0-4228-986e-0b1bdef34aa8",
   "metadata": {},
   "outputs": [],
   "source": [
    "def play_12():\n",
    "    while True:\n",
    "        res = get_a_pair()\n",
    "        if res==('A','A',2,12):\n",
    "            continue\n",
    "        elif (len(res)==3 and res[2]==12): \n",
    "            break\n",
    "        elif len(res)==4 and (res[2]==12 or res[3]==12):\n",
    "            break\n",
    "    return res"
   ]
  },
  {
   "cell_type": "code",
   "execution_count": 12,
   "id": "9eeb48d4-0760-47be-9649-aa7b3abe7956",
   "metadata": {},
   "outputs": [
    {
     "data": {
      "text/plain": [
       "(3, 9, 12)"
      ]
     },
     "execution_count": 12,
     "metadata": {},
     "output_type": "execute_result"
    }
   ],
   "source": [
    "play_12()"
   ]
  },
  {
   "cell_type": "code",
   "execution_count": 13,
   "id": "cfb6e02b-2a83-41f9-b0c9-896dc0289f39",
   "metadata": {},
   "outputs": [],
   "source": [
    "def play_10x():\n",
    "    while True:\n",
    "        res = get_a_pair()\n",
    "        if 21 in res:\n",
    "            continue\n",
    "        if res[0] in ['K', 'Q', 'J', 10]:\n",
    "            break\n",
    "    return res    "
   ]
  },
  {
   "cell_type": "code",
   "execution_count": 14,
   "id": "2d73d758-d3b0-4269-8b0e-f569afb692c3",
   "metadata": {},
   "outputs": [
    {
     "data": {
      "text/plain": [
       "('J', 9, 19)"
      ]
     },
     "execution_count": 14,
     "metadata": {},
     "output_type": "execute_result"
    }
   ],
   "source": [
    "play_10x()"
   ]
  },
  {
   "cell_type": "code",
   "execution_count": 108,
   "id": "4d4e6ed3-4938-42a2-b613-590961cf406a",
   "metadata": {},
   "outputs": [],
   "source": [
    "possible_dealer_hands=set()\n",
    "for i in ['K', 'Q', 'J', 10]:\n",
    "    for j in [2,3,4,5,6,7,8,9,10,'K', 'Q', 'J']:\n",
    "        possible_dealer_hands.add((i,j,points[i]+points[j]))\n",
    "        possible_dealer_hands.add((j,i,points[i]+points[j]))"
   ]
  },
  {
   "cell_type": "code",
   "execution_count": 98,
   "id": "16fa43dd-a664-4eae-bd25-4884c40668ec",
   "metadata": {},
   "outputs": [],
   "source": [
    "possible_player_hands = set()\n",
    "for i in range(2,11):\n",
    "    possible_player_hands.add((i,12-i,12))\n",
    "for i in ['K','Q','J']:\n",
    "    possible_player_hands.add((i,2,12))\n",
    "    possible_player_hands.add((2,i,12))"
   ]
  },
  {
   "cell_type": "code",
   "execution_count": 16,
   "id": "4bb98a28-d9dd-4fd6-b40d-74642415e03a",
   "metadata": {},
   "outputs": [],
   "source": [
    "def remove_from_deck(items):\n",
    "    for i in items:\n",
    "        deck.remove(i)"
   ]
  },
  {
   "cell_type": "code",
   "execution_count": 17,
   "id": "8ab0c42e-787e-4f04-8c29-4beaa383e514",
   "metadata": {},
   "outputs": [],
   "source": [
    "def play_12_vs_10x(dealer):\n",
    "    player = play_12()\n",
    "    remove_from_deck([dealer[0],dealer[1],player[0],player[1]])\n",
    "    return dealer,player"
   ]
  },
  {
   "cell_type": "code",
   "execution_count": 18,
   "id": "ec648457-684a-41ff-b102-3641c0e5ed39",
   "metadata": {},
   "outputs": [
    {
     "name": "stdout",
     "output_type": "stream",
     "text": [
      "dealer ('K', 10, 20)\n",
      "player (8, 4, 12)\n"
     ]
    }
   ],
   "source": [
    "dealer,player = play_12_vs_10x(random.choice(possible_dealer_hands))\n",
    "print('dealer',dealer)\n",
    "print('player',player)"
   ]
  },
  {
   "cell_type": "code",
   "execution_count": 19,
   "id": "7fd6d8e5-df8d-40c2-bdbb-b16cf3be2a4f",
   "metadata": {},
   "outputs": [
    {
     "data": {
      "text/plain": [
       "126"
      ]
     },
     "execution_count": 19,
     "metadata": {},
     "output_type": "execute_result"
    }
   ],
   "source": [
    "len(deck)"
   ]
  },
  {
   "cell_type": "code",
   "execution_count": 20,
   "id": "253f68c7-80bd-4319-b096-b74d80995dcc",
   "metadata": {},
   "outputs": [],
   "source": [
    "def player_bust(tot_pts):\n",
    "    return tot_pts>21"
   ]
  },
  {
   "cell_type": "code",
   "execution_count": 21,
   "id": "91fb15c0-e3be-4775-b311-c179b8e5d2f6",
   "metadata": {},
   "outputs": [],
   "source": [
    "def decide_winner(player_pts,dealer_pts):\n",
    "    if player_pts > dealer_pts:\n",
    "        return 1\n",
    "    elif player_pts == dealer_pts:\n",
    "        return 0\n",
    "    else:\n",
    "        return -1"
   ]
  },
  {
   "cell_type": "code",
   "execution_count": 26,
   "id": "5076b6ed-3925-49e1-938b-e806db6e575a",
   "metadata": {},
   "outputs": [],
   "source": [
    "exp=1000"
   ]
  },
  {
   "cell_type": "code",
   "execution_count": 120,
   "id": "f510a6fd-ef86-49b5-9380-af86340435dc",
   "metadata": {},
   "outputs": [
    {
     "name": "stderr",
     "output_type": "stream",
     "text": [
      "100%|██████████████████████████████████████████████████████████████████████████████████| 15/15 [02:59<00:00, 11.96s/it]\n"
     ]
    }
   ],
   "source": [
    "data=[] #15*\n",
    "for player in tqdm(possible_player_hands):\n",
    "    for dealer in possible_dealer_hands:\n",
    "        dealer_win_freq = 0\n",
    "        player_win_freq = 0\n",
    "        draw_freq = 0\n",
    "        # log = ''\n",
    "        for i in range(exp):\n",
    "            deck = deck_50perc()\n",
    "            did_player_bust = -1\n",
    "            tot_pts = player[-1]\n",
    "            while tot_pts<17:\n",
    "                player_card = hit()\n",
    "                # log+=str(player_card) + ' '\n",
    "                remove_from_deck([player_card[0]])\n",
    "                if player_card[0] == 'A':\n",
    "                    tot_pts+=1\n",
    "                else:\n",
    "                    tot_pts+=player_card[1]\n",
    "                    if player_bust(tot_pts):\n",
    "                        did_player_bust=1\n",
    "            if did_player_bust==1:\n",
    "                # log+=\"dwb pb\"\n",
    "                dealer_win_freq+=1\n",
    "            elif decide_winner(tot_pts, dealer[-1])==-1:\n",
    "                # log+=\"dwb pLH\"\n",
    "                dealer_win_freq+=1\n",
    "            elif decide_winner(tot_pts,dealer[-1])==0:\n",
    "                # log+=\"draw\"\n",
    "                draw_freq+=1\n",
    "            else:\n",
    "                # log+=\"player HH\"\n",
    "                player_win_freq+=1 \n",
    "        data.append({'dealer':dealer, 'player':player, 'dealer_win':dealer_win_freq,'player_win':player_win_freq, 'push':draw_freq})\n",
    "            # log+=\" | \""
   ]
  },
  {
   "cell_type": "code",
   "execution_count": 122,
   "id": "dd149dfc-a8a5-439a-8e52-d7e89835c375",
   "metadata": {},
   "outputs": [],
   "source": [
    "df = pd.DataFrame(data)"
   ]
  },
  {
   "cell_type": "code",
   "execution_count": 126,
   "id": "31de7854-fd6c-4d22-af42-8539caf5a16a",
   "metadata": {},
   "outputs": [],
   "source": [
    "df[['dealer_win', 'player_win', 'push']] = df[['dealer_win', 'player_win', 'push']] / exp * 100"
   ]
  },
  {
   "cell_type": "code",
   "execution_count": 127,
   "id": "a170dad8-f0e9-4cd1-a26b-0a107cbc21bd",
   "metadata": {},
   "outputs": [
    {
     "data": {
      "text/plain": [
       "np.float64(57.62399999999999)"
      ]
     },
     "execution_count": 127,
     "metadata": {},
     "output_type": "execute_result"
    }
   ],
   "source": [
    "df.dealer_win.mean()"
   ]
  },
  {
   "cell_type": "code",
   "execution_count": 128,
   "id": "1056384e-5865-4092-ae5a-ba421f5f716b",
   "metadata": {},
   "outputs": [
    {
     "data": {
      "text/plain": [
       "np.float64(37.21375)"
      ]
     },
     "execution_count": 128,
     "metadata": {},
     "output_type": "execute_result"
    }
   ],
   "source": [
    "df.player_win.mean()"
   ]
  },
  {
   "cell_type": "code",
   "execution_count": 129,
   "id": "9aedc7ab-4e80-483d-ac29-11a9cff7d2f4",
   "metadata": {},
   "outputs": [
    {
     "data": {
      "text/plain": [
       "np.float64(5.16225)"
      ]
     },
     "execution_count": 129,
     "metadata": {},
     "output_type": "execute_result"
    }
   ],
   "source": [
    "df.push.mean()"
   ]
  },
  {
   "cell_type": "code",
   "execution_count": 130,
   "id": "08a125a4-82de-4123-86c2-c67bd60bdab5",
   "metadata": {},
   "outputs": [
    {
     "data": {
      "text/html": [
       "<div>\n",
       "<style scoped>\n",
       "    .dataframe tbody tr th:only-of-type {\n",
       "        vertical-align: middle;\n",
       "    }\n",
       "\n",
       "    .dataframe tbody tr th {\n",
       "        vertical-align: top;\n",
       "    }\n",
       "\n",
       "    .dataframe thead th {\n",
       "        text-align: right;\n",
       "    }\n",
       "</style>\n",
       "<table border=\"1\" class=\"dataframe\">\n",
       "  <thead>\n",
       "    <tr style=\"text-align: right;\">\n",
       "      <th></th>\n",
       "      <th>dealer</th>\n",
       "      <th>player</th>\n",
       "      <th>dealer_win</th>\n",
       "      <th>player_win</th>\n",
       "      <th>push</th>\n",
       "    </tr>\n",
       "  </thead>\n",
       "  <tbody>\n",
       "    <tr>\n",
       "      <th>0</th>\n",
       "      <td>(J, 8, 18)</td>\n",
       "      <td>(K, 2, 12)</td>\n",
       "      <td>58.7</td>\n",
       "      <td>31.6</td>\n",
       "      <td>9.7</td>\n",
       "    </tr>\n",
       "    <tr>\n",
       "      <th>1</th>\n",
       "      <td>(10, 3, 13)</td>\n",
       "      <td>(K, 2, 12)</td>\n",
       "      <td>47.9</td>\n",
       "      <td>52.1</td>\n",
       "      <td>0.0</td>\n",
       "    </tr>\n",
       "    <tr>\n",
       "      <th>2</th>\n",
       "      <td>(J, 4, 14)</td>\n",
       "      <td>(K, 2, 12)</td>\n",
       "      <td>45.2</td>\n",
       "      <td>54.8</td>\n",
       "      <td>0.0</td>\n",
       "    </tr>\n",
       "    <tr>\n",
       "      <th>3</th>\n",
       "      <td>(Q, K, 20)</td>\n",
       "      <td>(K, 2, 12)</td>\n",
       "      <td>77.5</td>\n",
       "      <td>11.0</td>\n",
       "      <td>11.5</td>\n",
       "    </tr>\n",
       "    <tr>\n",
       "      <th>4</th>\n",
       "      <td>(5, Q, 15)</td>\n",
       "      <td>(K, 2, 12)</td>\n",
       "      <td>48.3</td>\n",
       "      <td>51.7</td>\n",
       "      <td>0.0</td>\n",
       "    </tr>\n",
       "    <tr>\n",
       "      <th>...</th>\n",
       "      <td>...</td>\n",
       "      <td>...</td>\n",
       "      <td>...</td>\n",
       "      <td>...</td>\n",
       "      <td>...</td>\n",
       "    </tr>\n",
       "    <tr>\n",
       "      <th>1195</th>\n",
       "      <td>(Q, 2, 12)</td>\n",
       "      <td>(4, 8, 12)</td>\n",
       "      <td>46.9</td>\n",
       "      <td>53.1</td>\n",
       "      <td>0.0</td>\n",
       "    </tr>\n",
       "    <tr>\n",
       "      <th>1196</th>\n",
       "      <td>(7, K, 17)</td>\n",
       "      <td>(4, 8, 12)</td>\n",
       "      <td>46.8</td>\n",
       "      <td>40.9</td>\n",
       "      <td>12.3</td>\n",
       "    </tr>\n",
       "    <tr>\n",
       "      <th>1197</th>\n",
       "      <td>(2, J, 12)</td>\n",
       "      <td>(4, 8, 12)</td>\n",
       "      <td>50.5</td>\n",
       "      <td>49.5</td>\n",
       "      <td>0.0</td>\n",
       "    </tr>\n",
       "    <tr>\n",
       "      <th>1198</th>\n",
       "      <td>(4, J, 14)</td>\n",
       "      <td>(4, 8, 12)</td>\n",
       "      <td>48.3</td>\n",
       "      <td>51.7</td>\n",
       "      <td>0.0</td>\n",
       "    </tr>\n",
       "    <tr>\n",
       "      <th>1199</th>\n",
       "      <td>(J, Q, 20)</td>\n",
       "      <td>(4, 8, 12)</td>\n",
       "      <td>80.7</td>\n",
       "      <td>9.6</td>\n",
       "      <td>9.7</td>\n",
       "    </tr>\n",
       "  </tbody>\n",
       "</table>\n",
       "<p>1200 rows × 5 columns</p>\n",
       "</div>"
      ],
      "text/plain": [
       "           dealer      player  dealer_win  player_win  push\n",
       "0      (J, 8, 18)  (K, 2, 12)        58.7        31.6   9.7\n",
       "1     (10, 3, 13)  (K, 2, 12)        47.9        52.1   0.0\n",
       "2      (J, 4, 14)  (K, 2, 12)        45.2        54.8   0.0\n",
       "3      (Q, K, 20)  (K, 2, 12)        77.5        11.0  11.5\n",
       "4      (5, Q, 15)  (K, 2, 12)        48.3        51.7   0.0\n",
       "...           ...         ...         ...         ...   ...\n",
       "1195   (Q, 2, 12)  (4, 8, 12)        46.9        53.1   0.0\n",
       "1196   (7, K, 17)  (4, 8, 12)        46.8        40.9  12.3\n",
       "1197   (2, J, 12)  (4, 8, 12)        50.5        49.5   0.0\n",
       "1198   (4, J, 14)  (4, 8, 12)        48.3        51.7   0.0\n",
       "1199   (J, Q, 20)  (4, 8, 12)        80.7         9.6   9.7\n",
       "\n",
       "[1200 rows x 5 columns]"
      ]
     },
     "execution_count": 130,
     "metadata": {},
     "output_type": "execute_result"
    }
   ],
   "source": [
    "df"
   ]
  },
  {
   "cell_type": "code",
   "execution_count": 131,
   "id": "a68c63f8-934f-4d74-bb3e-803310ad96b0",
   "metadata": {},
   "outputs": [],
   "source": [
    "df.to_csv('stats.csv', index=False)"
   ]
  },
  {
   "cell_type": "code",
   "execution_count": 132,
   "id": "122b097b-ae49-4dd4-9c37-921d43ae756b",
   "metadata": {},
   "outputs": [
    {
     "data": {
      "text/plain": [
       "1200000"
      ]
     },
     "execution_count": 132,
     "metadata": {},
     "output_type": "execute_result"
    }
   ],
   "source": [
    "len(possible_dealer_hands)*len(possible_player_hands)*exp"
   ]
  },
  {
   "cell_type": "code",
   "execution_count": 148,
   "id": "c98c0d48-c797-4eed-9a1c-219e14841cf5",
   "metadata": {},
   "outputs": [
    {
     "data": {
      "text/plain": [
       "1200"
      ]
     },
     "execution_count": 148,
     "metadata": {},
     "output_type": "execute_result"
    }
   ],
   "source": [
    "len(df)\n"
   ]
  },
  {
   "cell_type": "code",
   "execution_count": null,
   "id": "db862e32-a72c-406a-96dc-febc03c3ba15",
   "metadata": {},
   "outputs": [],
   "source": []
  }
 ],
 "metadata": {
  "kernelspec": {
   "display_name": "Python 3 (ipykernel)",
   "language": "python",
   "name": "python3"
  },
  "language_info": {
   "codemirror_mode": {
    "name": "ipython",
    "version": 3
   },
   "file_extension": ".py",
   "mimetype": "text/x-python",
   "name": "python",
   "nbconvert_exporter": "python",
   "pygments_lexer": "ipython3",
   "version": "3.12.4"
  }
 },
 "nbformat": 4,
 "nbformat_minor": 5
}
